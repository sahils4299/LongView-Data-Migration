{
 "cells": [
  {
   "cell_type": "code",
   "execution_count": 1,
   "metadata": {},
   "outputs": [],
   "source": [
    "import pandas as pd"
   ]
  },
  {
   "cell_type": "code",
   "execution_count": 3,
   "metadata": {},
   "outputs": [],
   "source": [
    "ll_adm_fee = pd.read_excel(\"Data before/Landlord admin fee.xlsx\")"
   ]
  },
  {
   "cell_type": "code",
   "execution_count": 7,
   "metadata": {},
   "outputs": [
    {
     "data": {
      "text/plain": [
       "2212"
      ]
     },
     "execution_count": 7,
     "metadata": {},
     "output_type": "execute_result"
    }
   ],
   "source": [
    "len(ll_adm_fee['Description'].unique())"
   ]
  },
  {
   "cell_type": "code",
   "execution_count": 11,
   "metadata": {},
   "outputs": [],
   "source": [
    "def remove_values_inside_parentheses(s):\n",
    "    return re.sub(r'\\([^)]*\\)', '', s)\n",
    "import re\n"
   ]
  },
  {
   "cell_type": "code",
   "execution_count": 12,
   "metadata": {},
   "outputs": [],
   "source": [
    "ll_adm_fee['New_desc'] = ll_adm_fee['Description'].apply(lambda x: remove_values_inside_parentheses(x))"
   ]
  },
  {
   "cell_type": "code",
   "execution_count": 24,
   "metadata": {},
   "outputs": [],
   "source": [
    "ll_adm_fee['New_desc'] = ll_adm_fee['New_desc'].apply(lambda x: x.strip().lower())"
   ]
  },
  {
   "cell_type": "code",
   "execution_count": 27,
   "metadata": {},
   "outputs": [
    {
     "data": {
      "text/plain": [
       "array(['registered post', 'credit note: refund admin fees overcharged',\n",
       "       'credit note: refund admin fee', 'registered mail', 'admin fee',\n",
       "       'credit note: refund of admin fees', 'acconts admin fee',\n",
       "       'lease renewal fee', 'break lease fee',\n",
       "       'credit note: goodwill refund admin fee', 'on-boarding fee',\n",
       "       'credit note: refund of admin incorrectly taken twice',\n",
       "       'credit note: refund half lease renewal fee',\n",
       "       'credit note: refund of admin fee incorrectly taken twice',\n",
       "       'credit note: refund of admin fee taken incorrectly',\n",
       "       'registered mail - rent increase', 'registered mail rent increase',\n",
       "       'letting fee - break lease', 'registered post  ng)',\n",
       "       'credit note: refund of registered post charge', 'admin fee x 9',\n",
       "       'credit note: refund admin fees',\n",
       "       'may admin fee payable by tenant',\n",
       "       'tenant/landlord payment transferred to landlord',\n",
       "       'admin fee payable by tenant', 'inventory fee',\n",
       "       'credit note: refund of admin fees chared in error',\n",
       "       '4/371 drummond street inventory fee',\n",
       "       '7/371 drummond street inventory fee', 'professional photos',\n",
       "       'monthly admin fee',\n",
       "       'credit note: refund of all admin fees charged in error',\n",
       "       'credit note: refund of admin fees charged in error',\n",
       "       'landlord admin fee', 'administration fee',\n",
       "       'credit note: refund of dishonour fee', 'adminitration fee',\n",
       "       'monthly administration fee', 'registered post fee',\n",
       "       'monthly administration fee  doherty)',\n",
       "       'credit note: refund of admin fee charged in error',\n",
       "       'administration charge', 'statement fee',\n",
       "       'credit note: refund of eofy statement fee', 'monhtly admin fee',\n",
       "       'landlord administration charge', 'accounts admin fee',\n",
       "       'admin fee  gao)', 'admin fe', 'admin fee  morgan)',\n",
       "       'lease transfer fee',\n",
       "       'credit note: refund admin fees charged in error',\n",
       "       'credit note: refund of admin fee', 'admninistration fee',\n",
       "       'monthly admininstration fee', 'advertising fee',\n",
       "       'admininistration fee', 'admin fee )',\n",
       "       'admin fee  limited, 321 ferntree gully road mount waverley)',\n",
       "       'professional photography', 'professional photography  li)',\n",
       "       'monthly admin fee  li)', 'monthy admin fee', 'administraion fee',\n",
       "       'administration fee  vu)', 'admin fee  lau)', 'admin fee  thomas)',\n",
       "       'admin fee  sen teng)', 'montly admin fee', 'admin fee  luo)',\n",
       "       'monthly admin fee  meygouni)',\n",
       "       'monthly statement fee - g03/100 nicholson street',\n",
       "       'admin fee  li)', 'admin fee  ni)', 'admininstration fee',\n",
       "       'marketing package', 'monthly admin fee )',\n",
       "       'credit note: refund marketing fee', 'monthly admin fee  tang)',\n",
       "       'monthly  admin fee', 'credit note: incorrectly charged',\n",
       "       'virtual tour', 'virtual tour  fang)', 'photography package',\n",
       "       'photography package  fang)', 'monthly admin fee  fang)',\n",
       "       'floorplan redraws', 'photos enhancements',\n",
       "       'monthly admin fee  hee bai)', 'monthly admin fee  hee bae)',\n",
       "       'key cutting', 'montthly admin fee', 'virtual styling',\n",
       "       'photos and floor plan',\n",
       "       'credit note: refund virtual styling charged twice', 'floorplans',\n",
       "       'photo and floorplan', 'monrthly admin fee', 'photo logo removal',\n",
       "       'photograpy package', 'marketing package-online + 10 photos',\n",
       "       'little hinges package', 'credit note: refund advertising'],\n",
       "      dtype=object)"
      ]
     },
     "execution_count": 27,
     "metadata": {},
     "output_type": "execute_result"
    }
   ],
   "source": [
    "ll_adm_fee['New_desc'].unique()"
   ]
  },
  {
   "cell_type": "code",
   "execution_count": 23,
   "metadata": {},
   "outputs": [
    {
     "data": {
      "text/plain": [
       "array(['Landlord Admin Fee', 'Good will payment', 'Tenant Admin Fee',\n",
       "       'Tenant/Landlord Payment'], dtype=object)"
      ]
     },
     "execution_count": 23,
     "metadata": {},
     "output_type": "execute_result"
    }
   ],
   "source": [
    "ll_adm_fee['Type'].unique()"
   ]
  },
  {
   "cell_type": "code",
   "execution_count": 2,
   "metadata": {},
   "outputs": [],
   "source": [
    "import pandas as pd\n",
    "\n",
    "# Your categorized dictionary\n",
    "categorized_values = {\n",
    "    \"Registered Post\": [\n",
    "        \"registered post\",\n",
    "        \"registered mail\",\n",
    "        \"registered mail - rent increase\",\n",
    "        \"registered mail rent increase\",\n",
    "        \"registered post ng)\",\n",
    "        \"registered post fee\"\n",
    "    ],\n",
    "    \"Credit Note: Refund Admin Fee\": [\n",
    "        \"credit note: refund admin fees overcharged\",\n",
    "        \"credit note: refund admin fee\",\n",
    "        \"credit note: refund of admin fees\",\n",
    "        \"credit note: refund of admin incorrectly taken twice\",\n",
    "        \"credit note: refund half lease renewal fee\",\n",
    "        \"credit note: refund of admin fee incorrectly taken twice\",\n",
    "        \"credit note: refund of admin fee taken incorrectly\",\n",
    "        \"credit note: refund of registered post charge\",\n",
    "        \"credit note: refund admin fees\",\n",
    "        \"credit note: refund of admin fees charged in error\",\n",
    "        \"credit note: refund of dishonour fee\",\n",
    "        \"credit note: refund of eofy statement fee\",\n",
    "        \"credit note: refund admin fees charged in error\",\n",
    "        \"credit note: refund of admin fee\",\n",
    "        \"credit note: refund marketing fee\",\n",
    "        \"credit note: incorrectly charged\",\n",
    "        \"credit note: refund virtual styling charged twice\",\n",
    "        \"credit note: refund advertising\"\n",
    "    ],\n",
    "    \"Admin Fee\": [\n",
    "        \"admin fee\",\n",
    "        \"acconts admin fee\",\n",
    "        \"admin fee x 9\",\n",
    "        \"may admin fee payable by tenant\",\n",
    "        \"tenant/landlord payment transferred to landlord\",\n",
    "        \"admin fee payable by tenant\",\n",
    "        \"landlord admin fee\",\n",
    "        \"administration fee\",\n",
    "        \"adminitration fee\",\n",
    "        \"admin fee gao)\",\n",
    "        \"admin fe\",\n",
    "        \"admin fee morgan)\",\n",
    "        \"admininistration fee\",\n",
    "        \"admin fee )\",\n",
    "        \"admin fee limited, 321 ferntree gully road mount waverley)\",\n",
    "        \"admin fee li)\",\n",
    "        \"admin fee ni)\",\n",
    "        \"admin fee tang)\",\n",
    "        \"admin fee thomas)\",\n",
    "        \"admin fee sen teng)\",\n",
    "        \"admin fee luo)\",\n",
    "        \"admin fee meygouni)\",\n",
    "        \"admin fee hee bai)\",\n",
    "        \"admin fee hee bae)\",\n",
    "        \"admin fee fang)\",\n",
    "        \"admin fee li)\",\n",
    "        \"admin fee vu)\"\n",
    "    ],\n",
    "    \"Lease Related Fees\": [\n",
    "        \"lease renewal fee\",\n",
    "        \"break lease fee\",\n",
    "        \"letting fee - break lease\",\n",
    "        \"lease transfer fee\"\n",
    "    ],\n",
    "    \"Credit Note: Goodwill Refund Admin Fee\": [\n",
    "        \"credit note: goodwill refund admin fee\"\n",
    "    ],\n",
    "    \"On-boarding Fee\": [\n",
    "        \"on-boarding fee\"\n",
    "    ],\n",
    "    \"Inventory Fee\": [\n",
    "        \"inventory fee\",\n",
    "        \"4/371 drummond street inventory fee\",\n",
    "        \"7/371 drummond street inventory fee\"\n",
    "    ],\n",
    "    \"Professional Photos\": [\n",
    "        \"professional photos\",\n",
    "        \"professional photography\",\n",
    "        \"professional photography li)\"\n",
    "    ],\n",
    "    \"Monthly Admin Fee\": [\n",
    "        \"monthly admin fee\",\n",
    "        \"monthly administration fee\",\n",
    "        \"monthly admin fee )\",\n",
    "        \"monthy admin fee\",\n",
    "        \"montly admin fee\",\n",
    "        \"monthly admin fee hee bai)\",\n",
    "        \"monthly admin fee  li)\",\n",
    "        \"monthly admin fee  tang)\",\n",
    "        \"monthly  admin fee\",\n",
    "        \"monthly admin fee  fang)\",\n",
    "        \"monthly admin fee  hee bai)\",\n",
    "        \"monthly admin fee  hee bae)\",\n",
    "        \"monthly admin fee  meygouni)\",\n",
    "        \"monthly statement fee - g03/100 nicholson street\",\n",
    "        \"monrthly admin fee\",\n",
    "        \"montthly admin fee\",\n",
    "        \"monthly admin fee )\",\n",
    "        \"monthly admin fee  tang)\",\n",
    "        \"monthly admininstration fee\"\n",
    "    ],\n",
    "    \"Statement Fee\": [\n",
    "        \"statement fee\"\n",
    "    ],\n",
    "    \"Advertising Fee\": [\n",
    "        \"advertising fee\"\n",
    "    ],\n",
    "    \"Virtual Tour\": [\n",
    "        \"virtual tour\",\n",
    "        \"virtual tour  fang)\"\n",
    "    ],\n",
    "    \"Photography Package\": [\n",
    "        \"photography package\",\n",
    "        \"photography package  fang)\"\n",
    "    ],\n",
    "    \"Floorplan Redraws\": [\n",
    "        \"floorplan redraws\"\n",
    "    ],\n",
    "    \"Photos Enhancements\": [\n",
    "        \"photos enhancements\"\n",
    "    ],\n",
    "    \"Key Cutting\": [\n",
    "        \"key cutting\"\n",
    "    ],\n",
    "    \"Virtual Styling\": [\n",
    "        \"virtual styling\"\n",
    "    ],\n",
    "    \"Photos and Floor Plan\": [\n",
    "        \"photos and floor plan\",\n",
    "        \"photo and floorplan\"\n",
    "    ],\n",
    "    \"Floorplans\": [\n",
    "        \"floorplans\"\n",
    "    ],\n",
    "    \"Photo Logo Removal\": [\n",
    "        \"photo logo removal\"\n",
    "    ],\n",
    "    \"Marketing Packages\": [\n",
    "        \"marketing package\",\n",
    "        \"marketing package-online + 10 photos\",\n",
    "        \"little hinges package\"\n",
    "    ]\n",
    "}\n",
    "\n",
    "\n",
    "\n",
    "# Create a DataFrame from the dictionary\n",
    "df = pd.DataFrame([(k, v) for k, values in categorized_values.items() for v in values], columns=['Category', 'Admin Fee From description'])\n",
    "\n",
    "df.to_excel('Admin Fee Categorisation.xlsx',index = False)"
   ]
  },
  {
   "cell_type": "code",
   "execution_count": 32,
   "metadata": {},
   "outputs": [
    {
     "data": {
      "text/plain": [
       "array(['Registered Post', 'Credit Note: Refund Admin Fee', 'Admin Fee',\n",
       "       'Lease Related Fees', 'Credit Note: Goodwill Refund Admin Fee',\n",
       "       'On-boarding Fee', 'Incorrectly Charged Admin Fees',\n",
       "       'Miscellaneous Admin Fees', 'Inventory Fee', 'Professional Photos',\n",
       "       'Statement Fee', 'Advertising Fee', 'Virtual Tour',\n",
       "       'Photography Package', 'Floorplan Redraws', 'Photo Enhancements',\n",
       "       'Key Cutting', 'Virtual Styling', 'Photos and Floor Plan',\n",
       "       'Floorplans', 'Photo Logo Removal', 'Marketing Packages'],\n",
       "      dtype=object)"
      ]
     },
     "execution_count": 32,
     "metadata": {},
     "output_type": "execute_result"
    }
   ],
   "source": [
    "df['Category'].unique()"
   ]
  },
  {
   "cell_type": "code",
   "execution_count": null,
   "metadata": {},
   "outputs": [],
   "source": []
  }
 ],
 "metadata": {
  "kernelspec": {
   "display_name": "base",
   "language": "python",
   "name": "python3"
  },
  "language_info": {
   "codemirror_mode": {
    "name": "ipython",
    "version": 3
   },
   "file_extension": ".py",
   "mimetype": "text/x-python",
   "name": "python",
   "nbconvert_exporter": "python",
   "pygments_lexer": "ipython3",
   "version": "3.9.13"
  },
  "orig_nbformat": 4
 },
 "nbformat": 4,
 "nbformat_minor": 2
}
